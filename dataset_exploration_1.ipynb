{
 "cells": [
  {
   "cell_type": "code",
   "execution_count": 1,
   "metadata": {},
   "outputs": [
    {
     "output_type": "stream",
     "name": "stderr",
     "text": "Using TensorFlow backend.\n"
    }
   ],
   "source": [
    "from data_processor import Dataset, Document, Sentence, Entity\n",
    "import numpy as np"
   ]
  },
  {
   "cell_type": "code",
   "execution_count": 5,
   "metadata": {
    "tags": [
     "outputPrepend",
     "outputPrepend",
     "outputPrepend",
     "outputPrepend",
     "outputPrepend",
     "outputPrepend",
     "outputPrepend",
     "outputPrepend",
     "outputPrepend",
     "outputPrepend",
     "outputPrepend",
     "outputPrepend",
     "outputPrepend",
     "outputPrepend",
     "outputPrepend"
    ]
   },
   "outputs": [
    {
     "output_type": "stream",
     "name": "stdout",
     "text": "in/DrugBank/Aminocaproic Acid_ddi.xml\n./Train/DrugBank/Aminoglutethimide_ddi.xml\n./Train/DrugBank/Aminohippurate_ddi.xml\n./Train/DrugBank/Aminolevulinic acid_ddi.xml\n./Train/DrugBank/Aminosalicylic Acid_ddi.xml\n./Train/DrugBank/Amiodarone_ddi.xml\n./Train/DrugBank/Amitriptyline_ddi.xml\n./Train/DrugBank/Amphotericin B_ddi.xml\n./Train/DrugBank/Ampicillin_ddi.xml\n./Train/DrugBank/Amprenavir_ddi.xml\n./Train/DrugBank/Amyl Nitrite_ddi.xml\n./Train/DrugBank/Anagrelide_ddi.xml\n./Train/DrugBank/Anakinra_ddi.xml\n./Train/DrugBank/Anastrozole_ddi.xml\n./Train/DrugBank/Anidulafungin_ddi.xml\n./Train/DrugBank/Anileridine_ddi.xml\n./Train/DrugBank/Anisindione_ddi.xml\n./Train/DrugBank/Apomorphine_ddi.xml\n./Train/DrugBank/Apraclonidine_ddi.xml\n./Train/DrugBank/Aprepitant_ddi.xml\n./Train/DrugBank/Arbutamine_ddi.xml\n./Train/DrugBank/Ardeparin_ddi.xml\n./Train/DrugBank/Arformoterol_ddi.xml\n./Train/DrugBank/Argatroban_ddi.xml\n./Train/DrugBank/Aripiprazole_ddi.xml\n./Train/DrugBank/Arsenic trioxide_ddi.xml\n./Train/DrugBank/Asparaginase_ddi.xml\n./Train/DrugBank/Aspirin_ddi.xml\n./Train/DrugBank/Astemizole_ddi.xml\n./Train/DrugBank/Atenolol_ddi.xml\n./Train/DrugBank/Atomoxetine_ddi.xml\n./Train/DrugBank/Atorvastatin_ddi.xml\n./Train/DrugBank/Atovaquone_ddi.xml\n./Train/DrugBank/Atracurium_ddi.xml\n./Train/DrugBank/Atropine_ddi.xml\n./Train/DrugBank/Auranofin_ddi.xml\n./Train/DrugBank/Azacitidine_ddi.xml\n./Train/DrugBank/Azatadine_ddi.xml\n./Train/DrugBank/Azathioprine_ddi.xml\n./Train/DrugBank/Azelaic Acid_ddi.xml\n./Train/DrugBank/Azithromycin_ddi.xml\n./Train/DrugBank/Azlocillin_ddi.xml\n./Train/DrugBank/Baclofen_ddi.xml\n./Train/DrugBank/Balsalazide_ddi.xml\n./Train/DrugBank/Basiliximab_ddi.xml\n./Train/DrugBank/Becaplermin_ddi.xml\n./Train/DrugBank/Beclomethasone_ddi.xml\n./Train/DrugBank/Benazepril_ddi.xml\n./Train/DrugBank/Bendroflumethiazide_ddi.xml\n./Train/DrugBank/Bentiromide_ddi.xml\n./Train/DrugBank/Bentoquatam_ddi.xml\n./Train/DrugBank/Benzocaine_ddi.xml\n./Train/DrugBank/Benzphetamine_ddi.xml\n./Train/DrugBank/Benzthiazide_ddi.xml\n./Train/DrugBank/Benztropine_ddi.xml\n./Train/DrugBank/Bepridil_ddi.xml\n./Train/DrugBank/Betamethasone_ddi.xml\n./Train/DrugBank/Betaxolol_ddi.xml\n./Train/DrugBank/Bethanechol_ddi.xml\n./Train/DrugBank/Bevacizumab_ddi.xml\n./Train/DrugBank/Bexarotene_ddi.xml\n./Train/DrugBank/Bezafibrate_ddi.xml\n./Train/DrugBank/Bicalutamide_ddi.xml\n./Train/DrugBank/Bimatoprost_ddi.xml\n./Train/DrugBank/Biperiden_ddi.xml\n./Train/DrugBank/Bisoprolol_ddi.xml\n./Train/DrugBank/Bitolterol_ddi.xml\n./Train/DrugBank/Bivalirudin_ddi.xml\n./Train/DrugBank/Bleomycin_ddi.xml\n./Train/DrugBank/Bortezomib_ddi.xml\n./Train/DrugBank/Bosentan_ddi.xml\n./Train/DrugBank/Botulinum Toxin Type A_ddi.xml\n./Train/DrugBank/Botulinum Toxin Type B_ddi.xml\n./Train/DrugBank/Bretylium_ddi.xml\n./Train/DrugBank/Brimonidine_ddi.xml\n./Train/DrugBank/Brinzolamide_ddi.xml\n./Train/DrugBank/Bromocriptine_ddi.xml\n./Train/DrugBank/Brompheniramine_ddi.xml\n./Train/DrugBank/Buclizine_ddi.xml\n./Train/DrugBank/Budesonide_ddi.xml\n./Train/DrugBank/Bumetanide_ddi.xml\n./Train/DrugBank/Bupivacaine_ddi.xml\n./Train/DrugBank/Buprenorphine_ddi.xml\n./Train/DrugBank/Bupropion_ddi.xml\n./Train/DrugBank/Buspirone_ddi.xml\n./Train/DrugBank/Busulfan_ddi.xml\n./Train/DrugBank/Butabarbital_ddi.xml\n./Train/DrugBank/Butalbital_ddi.xml\n./Train/DrugBank/Butenafine_ddi.xml\n./Train/DrugBank/Butorphanol_ddi.xml\n./Train/DrugBank/Cabergoline_ddi.xml\n./Train/DrugBank/Caffeine_ddi.xml\n./Train/DrugBank/Calcidiol_ddi.xml\n./Train/DrugBank/Calcitriol_ddi.xml\n./Train/DrugBank/Calcium Acetate_ddi.xml\n./Train/DrugBank/Calcium Gluceptate_ddi.xml\n./Train/DrugBank/Candesartan_ddi.xml\n./Train/DrugBank/Capecitabine_ddi.xml\n./Train/DrugBank/Captopril_ddi.xml\n./Train/DrugBank/Carbamazepine_ddi.xml\n./Train/DrugBank/Carbenicillin_ddi.xml\n./Train/DrugBank/Carbidopa_ddi.xml\n./Train/DrugBank/Carbimazole_ddi.xml\n./Train/DrugBank/Carbinoxamine_ddi.xml\n./Train/DrugBank/Carboplatin_ddi.xml\n./Train/DrugBank/Carboprost Tromethamine_ddi.xml\n./Train/DrugBank/Carteolol_ddi.xml\n./Train/DrugBank/Carvedilol_ddi.xml\n./Train/DrugBank/Caspofungin_ddi.xml\n./Train/DrugBank/Cefadroxil_ddi.xml\n./Train/DrugBank/Cefazolin_ddi.xml\n./Train/DrugBank/Cefdinir_ddi.xml\n./Train/DrugBank/Cefditoren_ddi.xml\n./Train/DrugBank/Cefepime_ddi.xml\n./Train/DrugBank/Cefixime_ddi.xml\n./Train/DrugBank/Cefotaxime_ddi.xml\n./Train/DrugBank/Cefotetan_ddi.xml\n./Train/DrugBank/Cefoxitin_ddi.xml\n./Train/DrugBank/Cefprozil_ddi.xml\n./Train/DrugBank/Ceftazidime_ddi.xml\n./Train/DrugBank/Ceftibuten_ddi.xml\n./Train/DrugBank/Ceftizoxime_ddi.xml\n./Train/DrugBank/Cefuroxime_ddi.xml\n./Train/DrugBank/Celecoxib_ddi.xml\n./Train/DrugBank/Cephalexin_ddi.xml\n./Train/DrugBank/Cerivastatin_ddi.xml\n./Train/DrugBank/Cetirizine_ddi.xml\n./Train/DrugBank/Cetrorelix_ddi.xml\n./Train/DrugBank/Cetuximab_ddi.xml\n./Train/DrugBank/Cevimeline_ddi.xml\n./Train/DrugBank/Chlorambucil_ddi.xml\n./Train/DrugBank/Chlordiazepoxide_ddi.xml\n./Train/DrugBank/Chloroprocaine_ddi.xml\n./Train/DrugBank/Chloroquine_ddi.xml\n./Train/DrugBank/Chlorothiazide_ddi.xml\n./Train/DrugBank/Chlorotrianisene_ddi.xml\n./Train/DrugBank/Chloroxine_ddi.xml\n./Train/DrugBank/Chlorpheniramine_ddi.xml\n./Train/DrugBank/Chlorpromazine_ddi.xml\n./Train/DrugBank/Chlorpropamide_ddi.xml\n./Train/DrugBank/Chlorprothixene_ddi.xml\n./Train/DrugBank/Chlorthalidone_ddi.xml\n./Train/DrugBank/Chlorzoxazone_ddi.xml\n./Train/DrugBank/Cholecalciferol_ddi.xml\n./Train/DrugBank/Cholestyramine_ddi.xml\n./Train/DrugBank/Ciclesonide_ddi.xml\n./Train/DrugBank/Cidofovir_ddi.xml\n./Train/DrugBank/Cilostazol_ddi.xml\n./Train/DrugBank/Cimetidine_ddi.xml\n./Train/DrugBank/Cinacalcet_ddi.xml\n./Train/DrugBank/Cinoxacin_ddi.xml\n./Train/DrugBank/Ciprofloxacin_ddi.xml\n./Train/DrugBank/Cisapride_ddi.xml\n./Train/DrugBank/Cisatracurium Besylate_ddi.xml\n./Train/DrugBank/Cisplatin_ddi.xml\n./Train/DrugBank/Citalopram_ddi.xml\n./Train/DrugBank/Cladribine_ddi.xml\n./Train/DrugBank/Clavulanate_ddi.xml\n./Train/DrugBank/Clemastine_ddi.xml\n./Train/DrugBank/Clidinium_ddi.xml\n./Train/DrugBank/Clindamycin_ddi.xml\n./Train/DrugBank/Clobazam_ddi.xml\n./Train/DrugBank/Clobetasol_ddi.xml\n./Train/DrugBank/Clofarabine_ddi.xml\n./Train/DrugBank/Clofazimine_ddi.xml\n./Train/DrugBank/Clofibrate_ddi.xml\n./Train/DrugBank/Clomifene_ddi.xml\n./Train/DrugBank/Clomipramine_ddi.xml\n./Train/DrugBank/Clonazepam_ddi.xml\n./Train/DrugBank/Clonidine_ddi.xml\n./Train/DrugBank/Clopidogrel_ddi.xml\n./Train/DrugBank/Clorazepate_ddi.xml\n./Train/DrugBank/Clozapine_ddi.xml\n./Train/DrugBank/Coagulation factor VIIa_ddi.xml\n./Train/DrugBank/Codeine_ddi.xml\n./Train/DrugBank/Colchicine_ddi.xml\n./Train/DrugBank/Colesevelam_ddi.xml\n./Train/DrugBank/Colestipol_ddi.xml\n./Train/DrugBank/Colistimethate_ddi.xml\n./Train/DrugBank/Conivaptan_ddi.xml\n./Train/DrugBank/Conjugated Estrogens_ddi.xml\n./Train/DrugBank/Corticotropin_ddi.xml\n./Train/DrugBank/Cortisone acetate_ddi.xml\n./Train/DrugBank/Cosyntropin_ddi.xml\n./Train/DrugBank/Cromoglicate_ddi.xml\n./Train/DrugBank/Crotamiton_ddi.xml\n./Train/DrugBank/Cyanocobalamin_ddi.xml\n./Train/DrugBank/Cyclobenzaprine_ddi.xml\n./Train/DrugBank/Cyclopentolate_ddi.xml\n./Train/DrugBank/Cyclophosphamide_ddi.xml\n./Train/DrugBank/Cycloserine_ddi.xml\n./Train/DrugBank/Cyproheptadine_ddi.xml\n./Train/DrugBank/Cysteamine_ddi.xml\n./Train/DrugBank/Cytarabine_ddi.xml\n./Train/DrugBank/Dactinomycin_ddi.xml\n./Train/DrugBank/Dantrolene_ddi.xml\n./Train/DrugBank/Dapsone_ddi.xml\n./Train/DrugBank/Daptomycin_ddi.xml\n./Train/DrugBank/Darbepoetin alfa_ddi.xml\n./Train/DrugBank/Darifenacin_ddi.xml\n./Train/DrugBank/Dasatinib_ddi.xml\n./Train/DrugBank/Daunorubicin_ddi.xml\n./Train/DrugBank/Decamethonium_ddi.xml\n./Train/DrugBank/Decitabine_ddi.xml\n./Train/DrugBank/Deferasirox_ddi.xml\n./Train/DrugBank/Delavirdine_ddi.xml\n./Train/DrugBank/Demecarium bromide_ddi.xml\n./Train/DrugBank/Demeclocycline_ddi.xml\n./Train/DrugBank/Denileukin diftitox_ddi.xml\n./Train/DrugBank/Deserpidine_ddi.xml\n./Train/DrugBank/Desflurane_ddi.xml\n./Train/DrugBank/Desipramine_ddi.xml\n./Train/DrugBank/Desloratadine_ddi.xml\n./Train/DrugBank/Desmopressin_ddi.xml\n./Train/DrugBank/Desogestrel_ddi.xml\n./Train/DrugBank/Desoximetasone_ddi.xml\n./Train/DrugBank/Dexamethasone_ddi.xml\n./Train/DrugBank/Dexbrompheniramine_ddi.xml\n./Train/DrugBank/Dexfenfluramine_ddi.xml\n./Train/DrugBank/Dexmedetomidine_ddi.xml\n./Train/DrugBank/Dexrazoxane_ddi.xml\n./Train/DrugBank/Dextroamphetamine_ddi.xml\n./Train/DrugBank/Dezocine_ddi.xml\n./Train/DrugBank/Diatrizoate_ddi.xml\n./Train/DrugBank/Dichlorphenamide_ddi.xml\n./Train/DrugBank/Diclofenac_ddi.xml\n./Train/DrugBank/Dicloxacillin_ddi.xml\n./Train/DrugBank/Dicyclomine_ddi.xml\n./Train/DrugBank/Didanosine_ddi.xml\n./Train/DrugBank/Dienestrol_ddi.xml\n./Train/DrugBank/Diethylpropion_ddi.xml\n./Train/DrugBank/Diethylstilbestrol_ddi.xml\n./Train/DrugBank/Diflunisal_ddi.xml\n./Train/DrugBank/Digoxin_ddi.xml\n./Train/DrugBank/Dihydroergotamine_ddi.xml\n./Train/DrugBank/Dihydrotachysterol_ddi.xml\n./Train/DrugBank/Diltiazem_ddi.xml\n./Train/DrugBank/Dimenhydrinate_ddi.xml\n./Train/DrugBank/Dinoprost Tromethamine_ddi.xml\n./Train/DrugBank/Dinoprostone_ddi.xml\n./Train/DrugBank/Diphenhydramine_ddi.xml\n./Train/DrugBank/Diphenidol_ddi.xml\n./Train/DrugBank/Diphenoxylate_ddi.xml\n./Train/DrugBank/Diphenylpyraline_ddi.xml\n./Train/DrugBank/Dipyridamole_ddi.xml\n./Train/DrugBank/Dirithromycin_ddi.xml\n./Train/DrugBank/Disopyramide_ddi.xml\n./Train/DrugBank/Disulfiram_ddi.xml\n./Train/DrugBank/Dobutamine_ddi.xml\n./Train/DrugBank/Docetaxel_ddi.xml\n./Train/DrugBank/Dofetilide_ddi.xml\n./Train/DrugBank/Dolasetron_ddi.xml\n./Train/DrugBank/Donepezil_ddi.xml\n./Train/DrugBank/Dopamine_ddi.xml\n./Train/DrugBank/Dornase Alfa_ddi.xml\n./Train/DrugBank/Dorzolamide_ddi.xml\n./Train/DrugBank/Doxacurium chloride_ddi.xml\n./Train/DrugBank/Doxapram_ddi.xml\n./Train/DrugBank/Doxazosin_ddi.xml\n./Train/DrugBank/Doxepin_ddi.xml\n./Train/DrugBank/Doxorubicin_ddi.xml\n./Train/DrugBank/Doxycycline_ddi.xml\n./Train/DrugBank/Doxylamine_ddi.xml\n./Train/DrugBank/Dromostanolone_ddi.xml\n./Train/DrugBank/Droperidol_ddi.xml\n./Train/DrugBank/Drotrecogin alfa_ddi.xml\n./Train/DrugBank/Duloxetine_ddi.xml\n./Train/DrugBank/Dyphylline_ddi.xml\n./Train/DrugBank/Echothiophate Iodide_ddi.xml\n./Train/DrugBank/Eculizumab_ddi.xml\n./Train/DrugBank/Edetic Acid_ddi.xml\n./Train/DrugBank/Edrophonium_ddi.xml\n./Train/DrugBank/Efalizumab_ddi.xml\n./Train/DrugBank/Efavirenz_ddi.xml\n./Train/DrugBank/Emtricitabine_ddi.xml\n./Train/DrugBank/Enalapril_ddi.xml\n./Train/DrugBank/Enflurane_ddi.xml\n./Train/DrugBank/Enfuvirtide_ddi.xml\n./Train/DrugBank/Enoxacin_ddi.xml\n./Train/DrugBank/Enoxaparin_ddi.xml\n./Train/DrugBank/Entacapone_ddi.xml\n./Train/DrugBank/Entecavir_ddi.xml\n./Train/DrugBank/Epinastine_ddi.xml\n./Train/DrugBank/Epinephrine_ddi.xml\n./Train/DrugBank/Epirubicin_ddi.xml\n./Train/DrugBank/Eplerenone_ddi.xml\n./Train/DrugBank/Epoetin alfa_ddi.xml\n./Train/DrugBank/Epoprostenol_ddi.xml\n./Train/DrugBank/Eprosartan_ddi.xml\n./Train/DrugBank/Eptifibatide_ddi.xml\n./Train/DrugBank/Ergocalciferol_ddi.xml\n./Train/DrugBank/Ergoloid mesylate_ddi.xml\n./Train/DrugBank/Ergotamine_ddi.xml\n./Train/DrugBank/Erlotinib_ddi.xml\n./Train/DrugBank/Ertapenem_ddi.xml\n./Train/DrugBank/Erythromycin_ddi.xml\n./Train/DrugBank/Escitalopram_ddi.xml\n./Train/DrugBank/Esmolol_ddi.xml\n./Train/DrugBank/Esomeprazole_ddi.xml\n./Train/DrugBank/Estazolam_ddi.xml\n./Train/DrugBank/Estradiol_ddi.xml\n./Train/DrugBank/Estramustine_ddi.xml\n./Train/DrugBank/Eszopiclone_ddi.xml\n./Train/DrugBank/Etanercept_ddi.xml\n./Train/DrugBank/Ethacrynic acid_ddi.xml\n./Train/DrugBank/Ethambutol_ddi.xml\n./Train/DrugBank/Ethchlorvynol_ddi.xml\n./Train/DrugBank/Ethinamate_ddi.xml\n./Train/DrugBank/Ethinyl Estradiol_ddi.xml\n./Train/DrugBank/Ethionamide_ddi.xml\n./Train/DrugBank/Ethopropazine_ddi.xml\n./Train/DrugBank/Ethosuximide_ddi.xml\n./Train/DrugBank/Ethotoin_ddi.xml\n./Train/DrugBank/Ethoxzolamide_ddi.xml\n./Train/DrugBank/Ethynodiol Diacetate_ddi.xml\n./Train/DrugBank/Etidronic acid_ddi.xml\n./Train/DrugBank/Etodolac_ddi.xml\n./Train/DrugBank/Etomidate_ddi.xml\n./Train/DrugBank/Etonogestrel_ddi.xml\n./Train/DrugBank/Etoposide_ddi.xml\n./Train/DrugBank/Exemestane_ddi.xml\n./Train/DrugBank/Famciclovir_ddi.xml\n./Train/DrugBank/Famotidine_ddi.xml\n./Train/DrugBank/Felbamate_ddi.xml\n./Train/DrugBank/Felodipine_ddi.xml\n./Train/DrugBank/Fenfluramine_ddi.xml\n./Train/DrugBank/Fenofibrate_ddi.xml\n./Train/DrugBank/Fenoldopam_ddi.xml\n./Train/DrugBank/Fenoprofen_ddi.xml\n./Train/DrugBank/Fentanyl_ddi.xml\n./Train/DrugBank/Fexofenadine_ddi.xml\n./Train/DrugBank/Filgrastim_ddi.xml\n./Train/DrugBank/Finasteride_ddi.xml\n./Train/DrugBank/Flecainide_ddi.xml\n./Train/DrugBank/Floxuridine_ddi.xml\n./Train/DrugBank/Flucytosine_ddi.xml\n./Train/DrugBank/Fludarabine_ddi.xml\n./Train/DrugBank/Fludrocortisone_ddi.xml\n./Train/DrugBank/Flumazenil_ddi.xml\n./Train/DrugBank/Fluorouracil_ddi.xml\n./Train/DrugBank/Fluoxetine_ddi.xml\n./Train/DrugBank/Fluoxymesterone_ddi.xml\n./Train/DrugBank/Flupenthixol_ddi.xml\n./Train/DrugBank/Flurbiprofen_ddi.xml\n./Train/DrugBank/Flutamide_ddi.xml\n./Train/DrugBank/Fluvoxamine_ddi.xml\n./Train/DrugBank/Folic Acid_ddi.xml\n./Train/DrugBank/Follitropin beta_ddi.xml\n./Train/DrugBank/Fomepizole_ddi.xml\n./Train/DrugBank/Fondaparinux sodium_ddi.xml\n./Train/DrugBank/Formoterol_ddi.xml\n./Train/DrugBank/Foscarnet_ddi.xml\n./Train/DrugBank/Fosfomycin_ddi.xml\n./Train/DrugBank/Fosinopril_ddi.xml\n./Train/DrugBank/Fosphenytoin_ddi.xml\n./Train/DrugBank/Frovatriptan_ddi.xml\n./Train/DrugBank/Fulvestrant_ddi.xml\n./Train/DrugBank/Furosemide_ddi.xml\n./Train/DrugBank/Gabapentin_ddi.xml\n./Train/DrugBank/Gadodiamide_ddi.xml\n./Train/DrugBank/Galsulfase_ddi.xml\n./Train/DrugBank/Ganciclovir_ddi.xml\n./Train/DrugBank/Gefitinib_ddi.xml\n./Train/DrugBank/Gemcitabine_ddi.xml\n./Train/DrugBank/Gemfibrozil_ddi.xml\n./Train/DrugBank/Gemifloxacin_ddi.xml\n./Train/DrugBank/Gemtuzumab ozogamicin_ddi.xml\n./Train/DrugBank/Glatiramer Acetate_ddi.xml\n./Train/DrugBank/Glibenclamide_ddi.xml\n./Train/DrugBank/Glimepiride_ddi.xml\n./Train/DrugBank/Glipizide_ddi.xml\n./Train/DrugBank/Glycopyrrolate_ddi.xml\n./Train/DrugBank/Gonadorelin_ddi.xml\n./Train/DrugBank/Goserelin_ddi.xml\n./Train/DrugBank/Grepafloxacin_ddi.xml\n./Train/DrugBank/Griseofulvin_ddi.xml\n./Train/DrugBank/Guaifenesin_ddi.xml\n./Train/DrugBank/Guanethidine_ddi.xml\n./Train/DrugBank/Guanfacine_ddi.xml\n./Train/DrugBank/Haloperidol_ddi.xml\n./Train/DrugBank/Halothane_ddi.xml\n./Train/DrugBank/Heparin_ddi.xml\n./Train/DrugBank/Heroin_ddi.xml\n./Train/DrugBank/Hexachlorophene_ddi.xml\n./Train/DrugBank/Hexobarbital_ddi.xml\n./Train/DrugBank/Hydralazine_ddi.xml\n./Train/DrugBank/Hydrochlorothiazide_ddi.xml\n./Train/DrugBank/Hydrocodone_ddi.xml\n./Train/DrugBank/Hydrocortisone_ddi.xml\n./Train/DrugBank/Hydroflumethiazide_ddi.xml\n./Train/DrugBank/Hydromorphone_ddi.xml\n./Train/DrugBank/Hydroxocobalamin_ddi.xml\n./Train/DrugBank/Hydroxyurea_ddi.xml\n./Train/DrugBank/Hydroxyzine_ddi.xml\n./Train/DrugBank/Hyoscyamine_ddi.xml\n./Train/DrugBank/Ibandronate_ddi.xml\n./Train/DrugBank/Ibritumomab_ddi.xml\n./Train/DrugBank/Ibuprofen_ddi.xml\n./Train/DrugBank/Ibutilide_ddi.xml\n./Train/DrugBank/Icodextrin_ddi.xml\n./Train/DrugBank/Icosapent_ddi.xml\n./Train/DrugBank/Idoxuridine_ddi.xml\n./Train/DrugBank/Ifosfamide_ddi.xml\n./Train/DrugBank/Iloprost_ddi.xml\n./Train/DrugBank/Imatinib_ddi.xml\n./Train/DrugBank/Imipramine_ddi.xml\n./Train/DrugBank/Imiquimod_ddi.xml\n./Train/DrugBank/Indinavir_ddi.xml\n./Train/DrugBank/Indomethacin_ddi.xml\n./Train/DrugBank/Infliximab_ddi.xml\n./Train/DrugBank/Insulin Glargine recombinant_ddi.xml\n./Train/DrugBank/Insulin recombinant_ddi.xml\n./Train/DrugBank/Interferon beta-1a_ddi.xml\n./Train/DrugBank/Interferon beta-1b_ddi.xml\n./Train/DrugBank/Ipratropium_ddi.xml\n./Train/DrugBank/Irbesartan_ddi.xml\n./Train/DrugBank/Irinotecan_ddi.xml\n./Train/DrugBank/Isocarboxazid_ddi.xml\n./Train/DrugBank/Isoetharine_ddi.xml\n./Train/DrugBank/Isoflurane_ddi.xml\n./Train/DrugBank/Isoniazid_ddi.xml\n./Train/DrugBank/Isoproterenol_ddi.xml\n./Train/DrugBank/Isosorbide Dinitrate_ddi.xml\n./Train/DrugBank/Isosorbide Mononitrate_ddi.xml\n./Train/DrugBank/Isotretinoin_ddi.xml\n./Train/DrugBank/Isradipine_ddi.xml\n./Train/DrugBank/Itraconazole_ddi.xml\n./Train/DrugBank/Kanamycin_ddi.xml\n./Train/DrugBank/Ketamine_ddi.xml\n./Train/DrugBank/Ketoconazole_ddi.xml\n./Train/DrugBank/Ketoprofen_ddi.xml\n./Train/DrugBank/Ketorolac_ddi.xml\n./Train/DrugBank/L-Arginine_ddi.xml\n./Train/DrugBank/L-Aspartic Acid_ddi.xml\n./Train/DrugBank/L-Carnitine_ddi.xml\n./Train/DrugBank/L-Glutamic Acid_ddi.xml\n./Train/DrugBank/L-Glutamine_ddi.xml\n./Train/DrugBank/L-Histidine_ddi.xml\n./Train/DrugBank/L-Lysine_ddi.xml\n./Train/DrugBank/L-Methionine_ddi.xml\n./Train/DrugBank/L-Phenylalanine_ddi.xml\n./Train/DrugBank/L-Tryptophan_ddi.xml\n./Train/DrugBank/L-Tyrosine_ddi.xml\n./Train/DrugBank/Labetalol_ddi.xml\n./Train/DrugBank/Lactulose_ddi.xml\n./Train/DrugBank/Lamivudine_ddi.xml\n./Train/DrugBank/Lansoprazole_ddi.xml\n./Train/DrugBank/Lapatinib_ddi.xml\n./Train/DrugBank/Laronidase_ddi.xml\n./Train/DrugBank/Latanoprost_ddi.xml\n./Train/DrugBank/Leflunomide_ddi.xml\n./Train/DrugBank/Lenalidomide_ddi.xml\n./Train/DrugBank/Lepirudin_ddi.xml\n./Train/DrugBank/Letrozole_ddi.xml\n./Train/DrugBank/Leucovorin_ddi.xml\n./Train/DrugBank/Levamisole_ddi.xml\n./Train/DrugBank/Levetiracetam_ddi.xml\n./Train/DrugBank/Levobunolol_ddi.xml\n./Train/DrugBank/Levobupivacaine_ddi.xml\n./Train/DrugBank/Levofloxacin_ddi.xml\n./Train/DrugBank/Levorphanol_ddi.xml\n./Train/DrugBank/Levosimendan_ddi.xml\n./Train/DrugBank/Levothyroxine_ddi.xml\n./Train/DrugBank/Lidocaine_ddi.xml\n./Train/DrugBank/Lincomycin_ddi.xml\n./Train/DrugBank/Lindane_ddi.xml\n./Train/DrugBank/Linezolid_ddi.xml\n./Train/DrugBank/Liothyronine_ddi.xml\n./Train/DrugBank/Lisdexamfetamine_ddi.xml\n./Train/DrugBank/Lisinopril_ddi.xml\n./Train/DrugBank/Lofexidine_ddi.xml\n./Train/DrugBank/Lomefloxacin_ddi.xml\n./Train/DrugBank/Loperamide_ddi.xml\n./Train/DrugBank/Loracarbef_ddi.xml\n./Train/DrugBank/Loratadine_ddi.xml\n./Train/DrugBank/Lorazepam_ddi.xml\n./Train/DrugBank/Losartan_ddi.xml\n./Train/DrugBank/Lovastatin_ddi.xml\n./Train/DrugBank/Loxapine_ddi.xml\n./Train/DrugBank/Lymecycline_ddi.xml\n./Train/DrugBank/Meclofenamic acid_ddi.xml\n./Train/DrugBank/Mefenamic acid_ddi.xml\n./Train/DrugBank/Mefloquine_ddi.xml\n./Train/DrugBank/Menadione_ddi.xml\n./Train/DrugBank/Nabilone_ddi.xml\n./Train/DrugBank/Nabumetone_ddi.xml\n./Train/DrugBank/Nadolol_ddi.xml\n./Train/DrugBank/Nafarelin_ddi.xml\n./Train/DrugBank/Nafcillin_ddi.xml\n./Train/DrugBank/Nalbuphine_ddi.xml\n./Train/DrugBank/Nalidixic Acid_ddi.xml\n./Train/DrugBank/Naltrexone_ddi.xml\n./Train/DrugBank/Naproxen_ddi.xml\n./Train/DrugBank/Naratriptan_ddi.xml\n./Train/DrugBank/Natalizumab_ddi.xml\n./Train/DrugBank/Nateglinide_ddi.xml\n./Train/DrugBank/Nedocromil_ddi.xml\n./Train/DrugBank/Nelfinavir_ddi.xml\n./Train/DrugBank/Neomycin_ddi.xml\n./Train/DrugBank/Neostigmine_ddi.xml\n./Train/DrugBank/Nesiritide_ddi.xml\n./Train/DrugBank/Netilmicin_ddi.xml\n./Train/DrugBank/Nevirapine_ddi.xml\n./Train/DrugBank/Niacin_ddi.xml\n./Train/DrugBank/Nicardipine_ddi.xml\n./Train/DrugBank/Nicotine_ddi.xml\n./Train/DrugBank/Nifedipine_ddi.xml\n./Train/DrugBank/Nilutamide_ddi.xml\n./Train/DrugBank/Nimodipine_ddi.xml\n./Train/DrugBank/Nisoldipine_ddi.xml\n./Train/DrugBank/Nitazoxanide_ddi.xml\n./Train/DrugBank/Nitric Oxide_ddi.xml\n./Train/DrugBank/Nitrofurantoin_ddi.xml\n./Train/DrugBank/Nitroglycerin_ddi.xml\n./Train/DrugBank/Nitroprusside_ddi.xml\n./Train/DrugBank/Nizatidine_ddi.xml\n./Train/DrugBank/Norethindrone_ddi.xml\n./Train/DrugBank/Norfloxacin_ddi.xml\n./Train/DrugBank/Norgestimate_ddi.xml\n./Train/DrugBank/Nortriptyline_ddi.xml\n./Train/DrugBank/Oxcarbazepine_ddi.xml\n./Train/DrugBank/Paclitaxel_ddi.xml\n./Train/DrugBank/Peginterferon alfa-2a_ddi.xml\n./Train/DrugBank/Piperacillin_ddi.xml\n./Train/DrugBank/Piperazine_ddi.xml\n./Train/DrugBank/Rofecoxib_ddi.xml\n./Train/DrugBank/Saquinavir_ddi.xml\n./Train/DrugBank/Sulfacetamide_ddi.xml\n./Train/DrugBank/Sulfapyridine_ddi.xml\n./Train/DrugBank/Tiagabine_ddi.xml\n./Train/DrugBank/Valdecoxib_ddi.xml\n./Train/DrugBank/Vardenafil_ddi.xml\n./Train/DrugBank/Zalcitabine_ddi.xml\n./Train/DrugBank/Zaleplon_ddi.xml\n"
    }
   ],
   "source": [
    "#get semeval train dataset\n",
    "\n",
    "#os.getcwd()\n",
    "os.chdir('./SemEval/semeval_task9_train_pair')\n",
    "DB_dataset = Dataset('DrugBank').from_training_data('DrugBank')\n",
    "\n"
   ]
  },
  {
   "cell_type": "code",
   "execution_count": 6,
   "metadata": {},
   "outputs": [
    {
     "output_type": "stream",
     "name": "stdout",
     "text": "DDI-DrugBank.d436.s0\nNo drug, nutritional supplement, food or herb interactions have yet been reported.\n[]\n"
    }
   ],
   "source": [
    "print(DB_dataset.documents[0].sentences[0]._id)\n",
    "print(DB_dataset.documents[0].sentences[0].text)\n",
    "print(DB_dataset.documents[0].sentences[0].entities)"
   ]
  },
  {
   "cell_type": "code",
   "execution_count": 7,
   "metadata": {},
   "outputs": [
    {
     "output_type": "stream",
     "name": "stdout",
     "text": "DDI-DrugBank.d519.s0\nNo formal drug/drug interaction studies with Plenaxis were performed.\n{}\nDDI-DrugBank.d519.s0.e0\nbrand\nPlenaxis\n"
    }
   ],
   "source": [
    "print(DB_dataset.documents[1].sentences[0]._id)\n",
    "print(DB_dataset.documents[1].sentences[0].text)\n",
    "print(DB_dataset.documents[1].sentences[0].map)\n",
    "print(DB_dataset.documents[1].sentences[0].entities[0]._id)\n",
    "print(DB_dataset.documents[1].sentences[0].entities[0].type)\n",
    "print(DB_dataset.documents[1].sentences[0].entities[0].text)"
   ]
  },
  {
   "cell_type": "code",
   "execution_count": 8,
   "metadata": {},
   "outputs": [
    {
     "output_type": "stream",
     "name": "stdout",
     "text": "DDI-DrugBank.d72.s2\nPhenytoin increases the clearance of busulfan by 15% or more, possibly due to the induction of glutathione-S-transferase.\n{'DDI-DrugBank.d72.s2.e0': ('DDI-DrugBank.d72.s2.e1', 'mechanism')}\nDDI-DrugBank.d72.s2.e0\ndrug\nPhenytoin\n"
    }
   ],
   "source": [
    "#select any data\n",
    "i=123 #document\n",
    "j=2 #sentence in doc\n",
    "k=0 #entity in sentence\n",
    "\n",
    "print(DB_dataset.documents[i].sentences[j]._id)\n",
    "print(DB_dataset.documents[i].sentences[j].text)\n",
    "print(DB_dataset.documents[i].sentences[j].map)\n",
    "print(DB_dataset.documents[i].sentences[j].entities[k]._id)\n",
    "print(DB_dataset.documents[i].sentences[j].entities[k].type)\n",
    "print(DB_dataset.documents[i].sentences[j].entities[k].text)"
   ]
  },
  {
   "cell_type": "code",
   "execution_count": 9,
   "metadata": {},
   "outputs": [
    {
     "output_type": "execute_result",
     "data": {
      "text/plain": "572"
     },
     "metadata": {},
     "execution_count": 9
    }
   ],
   "source": [
    "#how many documents?\n",
    "len(DB_dataset.documents)"
   ]
  },
  {
   "cell_type": "code",
   "execution_count": 10,
   "metadata": {},
   "outputs": [
    {
     "output_type": "execute_result",
     "data": {
      "text/plain": "5675"
     },
     "metadata": {},
     "execution_count": 10
    }
   ],
   "source": [
    "# how many sentences?\n",
    "count_sent = 0\n",
    "\n",
    "for doc in DB_dataset.documents:\n",
    "    count_sent += len(doc.sentences)\n",
    "count_sent"
   ]
  },
  {
   "cell_type": "code",
   "execution_count": 11,
   "metadata": {},
   "outputs": [
    {
     "output_type": "stream",
     "name": "stdout",
     "text": "Total entities mentions:  12929\nTotal ddi:  2477\ntotal unique entities:  2655\nunique types:  ['advise' 'effect' 'int' 'mechanism']\n"
    }
   ],
   "source": [
    "# how many entities and ddi?\n",
    "\n",
    "count_hit = 0\n",
    "entity_list = []\n",
    "count_ddi = 0\n",
    "type_list = []\n",
    "\n",
    "for doc in DB_dataset.documents:\n",
    "    for sent in doc.sentences:\n",
    "        count_hit += len(sent.entities)\n",
    "        count_ddi += len(sent.map)\n",
    "        if len(sent.entities) >0:\n",
    "            for entity in sent.entities:\n",
    "                entity_list.append(entity.text)\n",
    "        if len(sent.map)>0:\n",
    "            for i, (k, v) in enumerate(sent.map.items()):\n",
    "                type_list.append(v[1])\n",
    "\n",
    "print(\"Total entities mentions: \",count_hit)\n",
    "print(\"Total ddi: \",count_ddi)\n",
    "print(\"total unique entities: \", len(np.unique(np.array(entity_list))))\n",
    "print(\"unique types: \", np.unique(np.array(type_list)))"
   ]
  },
  {
   "cell_type": "code",
   "execution_count": null,
   "metadata": {},
   "outputs": [],
   "source": []
  },
  {
   "cell_type": "code",
   "execution_count": 12,
   "metadata": {},
   "outputs": [
    {
     "output_type": "stream",
     "name": "stdout",
     "text": "['10150268.xml', '10226677.xml', '10319155.xml', '1089034.xml', '1089817.xml', '10959916.xml', '10978746.xml', '10978751.xml', '11064383.xml', '11085305.xml', '11085328.xml', '11085333.xml', '11085336.xml', '1109248.xml', '1109299.xml', '1109556.xml', '11114408.xml', '11115418.xml', '11120981.xml', '11121387.xml', '11121884.xml', '11125022.xml', '11125235.xml', '1113260.xml', '11134454.xml', '11137320.xml', '11137351.xml', '11137650.xml', '11137703.xml', '11144988.xml', '11148572.xml', '11151029.xml', '11152438.xml', '11152855.xml', '1115340.xml', '1115367.xml', '1115445.xml', '11154900.xml', '11155575.xml', '1115721.xml', '11158747.xml', '11160777.xml', '1116650.xml', '11166779.xml', '11170315.xml', '11172561.xml', '11178969.xml', '11180036.xml', '11180037.xml', '11180038.xml', '11180040.xml', '11181395.xml', '11197581.xml', '11197767.xml', '11197768.xml', '11198959.xml', '11199955.xml', '11206047.xml', '11206048.xml', '11206187.xml', '11206417.xml', '11210403.xml', '11210404.xml', '11210678.xml', '11211460.xml', '11213358.xml', '11213561.xml', '11213850.xml', '11217867.xml', '11217868.xml', '11218973.xml', '11219023.xml', '11219477.xml', '11271411.xml', '1167743.xml', '1167797.xml', '15825309.xml', '15825391.xml', '15825399.xml', '15830476.xml', '15986716.xml', '163470.xml', '16649322.xml', '16649344.xml', '17894105.xml', '19489169.xml', '2578306.xml', '2578597.xml', '2857099.xml', '2857100.xml', '2857198.xml', '2857499.xml', '2981680.xml', '2981704.xml', '2982252.xml', '3155550.xml', '3871245.xml', '3871459.xml', '3881076.xml', '3881461.xml', '3881917.xml', '3918122.xml', '3964797.xml', '3966974.xml', '3967572.xml', '3968644.xml', '3969689.xml', '4038510.xml', '4469683.xml', '46730.xml', '6100190.xml', '6100240.xml', '6443625.xml', '6536282.xml', '6536292.xml', '6537219.xml', '6545279.xml', '6545985.xml', '7476793.xml', '7496198.xml', '7599505.xml', '7600639.xml', '7625885.xml', '7632757.xml', '7635041.xml', '7653281.xml', '7654327.xml', '7744123.xml', '7746025.xml', '7756960.xml', '7756965.xml', '7780789.xml', '7786695.xml', '7794883.xml', '7798493.xml', '8521984.xml', '8542840.xml', '8619063.xml', '8640374.xml', '8682269.xml', '8996605.xml', '9120829.xml']\n./Train/MedLine/10150268.xml\n./Train/MedLine/10226677.xml\n./Train/MedLine/10319155.xml\n./Train/MedLine/1089034.xml\n./Train/MedLine/1089817.xml\n./Train/MedLine/10959916.xml\n./Train/MedLine/10978746.xml\n./Train/MedLine/10978751.xml\n./Train/MedLine/11064383.xml\n./Train/MedLine/11085305.xml\n./Train/MedLine/11085328.xml\n./Train/MedLine/11085333.xml\n./Train/MedLine/11085336.xml\n./Train/MedLine/1109248.xml\n./Train/MedLine/1109299.xml\n./Train/MedLine/1109556.xml\n./Train/MedLine/11114408.xml\n./Train/MedLine/11115418.xml\n./Train/MedLine/11120981.xml\n./Train/MedLine/11121387.xml\n./Train/MedLine/11121884.xml\n./Train/MedLine/11125022.xml\n./Train/MedLine/11125235.xml\n./Train/MedLine/1113260.xml\n./Train/MedLine/11134454.xml\n./Train/MedLine/11137320.xml\n./Train/MedLine/11137351.xml\n./Train/MedLine/11137650.xml\n./Train/MedLine/11137703.xml\n./Train/MedLine/11144988.xml\n./Train/MedLine/11148572.xml\n./Train/MedLine/11151029.xml\n./Train/MedLine/11152438.xml\n./Train/MedLine/11152855.xml\n./Train/MedLine/1115340.xml\n./Train/MedLine/1115367.xml\n./Train/MedLine/1115445.xml\n./Train/MedLine/11154900.xml\n./Train/MedLine/11155575.xml\n./Train/MedLine/1115721.xml\n./Train/MedLine/11158747.xml\n./Train/MedLine/11160777.xml\n./Train/MedLine/1116650.xml\n./Train/MedLine/11166779.xml\n./Train/MedLine/11170315.xml\n./Train/MedLine/11172561.xml\n./Train/MedLine/11178969.xml\n./Train/MedLine/11180036.xml\n./Train/MedLine/11180037.xml\n./Train/MedLine/11180038.xml\n./Train/MedLine/11180040.xml\n./Train/MedLine/11181395.xml\n./Train/MedLine/11197581.xml\n./Train/MedLine/11197767.xml\n./Train/MedLine/11197768.xml\n./Train/MedLine/11198959.xml\n./Train/MedLine/11199955.xml\n./Train/MedLine/11206047.xml\n./Train/MedLine/11206048.xml\n./Train/MedLine/11206187.xml\n./Train/MedLine/11206417.xml\n./Train/MedLine/11210403.xml\n./Train/MedLine/11210404.xml\n./Train/MedLine/11210678.xml\n./Train/MedLine/11211460.xml\n./Train/MedLine/11213358.xml\n./Train/MedLine/11213561.xml\n./Train/MedLine/11213850.xml\n./Train/MedLine/11217867.xml\n./Train/MedLine/11217868.xml\n./Train/MedLine/11218973.xml\n./Train/MedLine/11219023.xml\n./Train/MedLine/11219477.xml\n./Train/MedLine/11271411.xml\n./Train/MedLine/1167743.xml\n./Train/MedLine/1167797.xml\n./Train/MedLine/15825309.xml\n./Train/MedLine/15825391.xml\n./Train/MedLine/15825399.xml\n./Train/MedLine/15830476.xml\n./Train/MedLine/15986716.xml\n./Train/MedLine/163470.xml\n./Train/MedLine/16649322.xml\n./Train/MedLine/16649344.xml\n./Train/MedLine/17894105.xml\n./Train/MedLine/19489169.xml\n./Train/MedLine/2578306.xml\n./Train/MedLine/2578597.xml\n./Train/MedLine/2857099.xml\n./Train/MedLine/2857100.xml\n./Train/MedLine/2857198.xml\n./Train/MedLine/2857499.xml\n./Train/MedLine/2981680.xml\n./Train/MedLine/2981704.xml\n./Train/MedLine/2982252.xml\n./Train/MedLine/3155550.xml\n./Train/MedLine/3871245.xml\n./Train/MedLine/3871459.xml\n./Train/MedLine/3881076.xml\n./Train/MedLine/3881461.xml\n./Train/MedLine/3881917.xml\n./Train/MedLine/3918122.xml\n./Train/MedLine/3964797.xml\n./Train/MedLine/3966974.xml\n./Train/MedLine/3967572.xml\n./Train/MedLine/3968644.xml\n./Train/MedLine/3969689.xml\n./Train/MedLine/4038510.xml\n./Train/MedLine/4469683.xml\n./Train/MedLine/46730.xml\n./Train/MedLine/6100190.xml\n./Train/MedLine/6100240.xml\n./Train/MedLine/6443625.xml\n./Train/MedLine/6536282.xml\n./Train/MedLine/6536292.xml\n./Train/MedLine/6537219.xml\n./Train/MedLine/6545279.xml\n./Train/MedLine/6545985.xml\n./Train/MedLine/7476793.xml\n./Train/MedLine/7496198.xml\n./Train/MedLine/7599505.xml\n./Train/MedLine/7600639.xml\n./Train/MedLine/7625885.xml\n./Train/MedLine/7632757.xml\n./Train/MedLine/7635041.xml\n./Train/MedLine/7653281.xml\n./Train/MedLine/7654327.xml\n./Train/MedLine/7744123.xml\n./Train/MedLine/7746025.xml\n./Train/MedLine/7756960.xml\n./Train/MedLine/7756965.xml\n./Train/MedLine/7780789.xml\n./Train/MedLine/7786695.xml\n./Train/MedLine/7794883.xml\n./Train/MedLine/7798493.xml\n./Train/MedLine/8521984.xml\n./Train/MedLine/8542840.xml\n./Train/MedLine/8619063.xml\n./Train/MedLine/8640374.xml\n./Train/MedLine/8682269.xml\n./Train/MedLine/8996605.xml\n./Train/MedLine/9120829.xml\n"
    }
   ],
   "source": [
    "ML_dataset = Dataset('MedLine').from_training_data('MedLine')"
   ]
  },
  {
   "cell_type": "code",
   "execution_count": 38,
   "metadata": {},
   "outputs": [
    {
     "output_type": "stream",
     "name": "stdout",
     "text": "DDI-MedLine.d89.s2\nDue to its nephrotoxicity, gentamicin may cause abnormal renal uptake to be seen on 99mTc-MDP bone scintigraphy. \n{'DDI-MedLine.d89.s2.e0': ('DDI-MedLine.d89.s2.e1', 'mechanism')}\nDDI-MedLine.d89.s2.e0\ndrug\ngentamicin\n"
    }
   ],
   "source": [
    "#select any data\n",
    "i=123 #document\n",
    "j=2 #sentence in doc\n",
    "k=0 #entity in sentence\n",
    "\n",
    "print(ML_dataset.documents[i].sentences[j]._id)\n",
    "print(ML_dataset.documents[i].sentences[j].text)\n",
    "print(ML_dataset.documents[i].sentences[j].map)\n",
    "print(ML_dataset.documents[i].sentences[j].entities[k]._id)\n",
    "print(ML_dataset.documents[i].sentences[j].entities[k].type)\n",
    "print(ML_dataset.documents[i].sentences[j].entities[k].text)"
   ]
  },
  {
   "cell_type": "code",
   "execution_count": 14,
   "metadata": {},
   "outputs": [
    {
     "output_type": "execute_result",
     "data": {
      "text/plain": "142"
     },
     "metadata": {},
     "execution_count": 14
    }
   ],
   "source": [
    "#how many documents?\n",
    "len(ML_dataset.documents)"
   ]
  },
  {
   "cell_type": "code",
   "execution_count": 15,
   "metadata": {},
   "outputs": [
    {
     "output_type": "execute_result",
     "data": {
      "text/plain": "1301"
     },
     "metadata": {},
     "execution_count": 15
    }
   ],
   "source": [
    "# how many sentences?\n",
    "count_sent = 0\n",
    "\n",
    "for doc in ML_dataset.documents:\n",
    "    count_sent += len(doc.sentences)\n",
    "count_sent"
   ]
  },
  {
   "cell_type": "code",
   "execution_count": 16,
   "metadata": {},
   "outputs": [
    {
     "output_type": "stream",
     "name": "stdout",
     "text": "Total entities mentions:  1836\nTotal ddi:  192\ntotal unique entities:  556\nunique types:  ['advise' 'effect' 'int' 'mechanism']\n"
    }
   ],
   "source": [
    "# how many entities and ddi?\n",
    "\n",
    "count_hit = 0\n",
    "entity_list = []\n",
    "count_ddi = 0\n",
    "type_list = []\n",
    "\n",
    "for doc in ML_dataset.documents:\n",
    "    for sent in doc.sentences:\n",
    "        count_hit += len(sent.entities)\n",
    "        count_ddi += len(sent.map)\n",
    "        if len(sent.entities) >0:\n",
    "            for entity in sent.entities:\n",
    "                entity_list.append(entity.text)\n",
    "        if len(sent.map)>0:\n",
    "            for i, (k, v) in enumerate(sent.map.items()):\n",
    "                type_list.append(v[1])\n",
    "\n",
    "print(\"Total entities mentions: \",count_hit)\n",
    "print(\"Total ddi: \",count_ddi)\n",
    "print(\"total unique entities: \", len(np.unique(np.array(entity_list))))\n",
    "print(\"unique types: \", np.unique(np.array(type_list)))"
   ]
  },
  {
   "cell_type": "code",
   "execution_count": null,
   "metadata": {},
   "outputs": [],
   "source": [
    "\n",
    "                \n",
    "\n",
    "\n",
    "\n",
    "            for i, (k, v) in enumerate(sent.map.items()):\n",
    "                type_list.append(v[1])\n",
    "        if len(sent.entities) >0:\n",
    "            for entity in sent.entities:\n",
    "                entity_list.append(entity.text)\n",
    "        \n",
    "\n",
    "\n",
    "ML_dataset = Dataset('MedLine').from_training_data('MedLine')\n",
    "\n",
    "#select any data\n",
    "i=123 #document\n",
    "j=2 #sentence in doc\n",
    "k=0 #entity in sentence\n",
    "\n",
    "print(ML_dataset.documents[i].sentences[j]._id)\n",
    "print(ML_dataset.documents[i].sentences[j].text)\n",
    "print(ML_dataset.documents[i].sentences[j].map)\n",
    "print(ML_dataset.documents[i].sentences[j].entities[k]._id)\n",
    "print(ML_dataset.documents[i].sentences[j].entities[k].type)\n",
    "print(ML_dataset.documents[i].sentences[j].entities[k].text)\n"
   ]
  },
  {
   "cell_type": "code",
   "execution_count": 63,
   "metadata": {},
   "outputs": [],
   "source": [
    "import pandas as pd\n",
    "import itertools\n",
    "\n",
    "classification_task_df = pd.DataFrame(columns=['e1_id','e1_type','e1_name','e2_id','e2_type','e2_name','sentence','ddi','label'])\n",
    "\n",
    "df_idx =0\n",
    "\n",
    "for doc in ML_dataset.documents:\n",
    "    for sent in doc.sentences:\n",
    "        if len(sent.map)==0:\n",
    "            if len(sent.entities)==1:\n",
    "                count_sent_1_entity += 1\n",
    "                classification_task_df = classification_task_df.append({\n",
    "                    'e1_id': sent.entities[0]._id,\n",
    "                    'e1_type': sent.entities[0].type,\n",
    "                    'e1_name': sent.entities[0].text,\n",
    "                    'e2_id':\"\",\n",
    "                    'e2_type':\"\",\n",
    "                    'e2_name':\"\",\n",
    "                    'sentence':sent.text,\n",
    "                    'ddi':False,\n",
    "                    'label':'NO_DDI'\n",
    "                },ignore_index=True)\n",
    "            if len(sent.entities)>2:\n",
    "                for (i,j)in itertools.combinations(range(len(sent.entities)),2):\n",
    "                    classification_task_df = classification_task_df.append({\n",
    "                        'e1_id': sent.entities[i]._id,\n",
    "                        'e1_type': sent.entities[i].type,\n",
    "                        'e1_name': sent.entities[i].text,\n",
    "                        'e2_id':sent.entities[j]._id,\n",
    "                        'e2_type':sent.entities[j].type,\n",
    "                        'e2_name':sent.entities[j].text,\n",
    "                        'sentence':sent.text,\n",
    "                        'ddi':False,\n",
    "                        'label':'NO_DDI'\n",
    "                    },ignore_index=True)\n",
    "        if len(sent.map)>0:\n",
    "            for i, (k, v) in enumerate(sent.map.items()):\n",
    "                for entity in sent.entities:\n",
    "                    if entity._id == k:\n",
    "                        e1_id = k\n",
    "                        e1_type = entity.type\n",
    "                        e1_name = entity.text\n",
    "                    if entity._id == v[0]:\n",
    "                        e2_id = v[0]\n",
    "                        e2_type = entity.type\n",
    "                        e2_name = entity.text\n",
    "                classification_task_df = classification_task_df.append({\n",
    "                        'e1_id': e1_id,\n",
    "                        'e1_type':e1_type,\n",
    "                        'e1_name':e1_name,\n",
    "                        'e2_id':e2_id,\n",
    "                        'e2_type':e2_type,\n",
    "                        'e2_name':e2_name,\n",
    "                        'sentence':sent.text,\n",
    "                        'ddi':True,\n",
    "                        'label':v[1]\n",
    "                    },ignore_index=True)\n",
    "       "
   ]
  },
  {
   "cell_type": "code",
   "execution_count": 66,
   "metadata": {},
   "outputs": [
    {
     "output_type": "execute_result",
     "data": {
      "text/plain": "'The results raise the possibility that the ethanolysis reaction may occur in the stomach of people who consume alcohol and 3-hydroxy-1,4-benzodiazepine on a regular basis. '"
     },
     "metadata": {},
     "execution_count": 66
    }
   ],
   "source": [
    "classification_task_df.loc[1613,\"sentence\"]"
   ]
  },
  {
   "cell_type": "code",
   "execution_count": 67,
   "metadata": {},
   "outputs": [
    {
     "output_type": "execute_result",
     "data": {
      "text/plain": "                         e1_id e1_type    e1_name e2_id e2_type e2_name  \\\ncount                     1615    1615       1615  1615    1615    1615   \nunique                     997       4        418   635       5     290   \ntop     DDI-MedLine.d111.s5.e0    drug  magnesium          drug           \nfreq                        13    1061         34   344     870     344   \n\n                                                 sentence    ddi   label  \ncount                                                1615   1615    1615  \nunique                                                670      2       5  \ntop     acetaminophen/theophylline, lidocaine/quinidin...  False  NO_DDI  \nfreq                                                   91   1423    1423  ",
      "text/html": "<div>\n<style scoped>\n    .dataframe tbody tr th:only-of-type {\n        vertical-align: middle;\n    }\n\n    .dataframe tbody tr th {\n        vertical-align: top;\n    }\n\n    .dataframe thead th {\n        text-align: right;\n    }\n</style>\n<table border=\"1\" class=\"dataframe\">\n  <thead>\n    <tr style=\"text-align: right;\">\n      <th></th>\n      <th>e1_id</th>\n      <th>e1_type</th>\n      <th>e1_name</th>\n      <th>e2_id</th>\n      <th>e2_type</th>\n      <th>e2_name</th>\n      <th>sentence</th>\n      <th>ddi</th>\n      <th>label</th>\n    </tr>\n  </thead>\n  <tbody>\n    <tr>\n      <th>count</th>\n      <td>1615</td>\n      <td>1615</td>\n      <td>1615</td>\n      <td>1615</td>\n      <td>1615</td>\n      <td>1615</td>\n      <td>1615</td>\n      <td>1615</td>\n      <td>1615</td>\n    </tr>\n    <tr>\n      <th>unique</th>\n      <td>997</td>\n      <td>4</td>\n      <td>418</td>\n      <td>635</td>\n      <td>5</td>\n      <td>290</td>\n      <td>670</td>\n      <td>2</td>\n      <td>5</td>\n    </tr>\n    <tr>\n      <th>top</th>\n      <td>DDI-MedLine.d111.s5.e0</td>\n      <td>drug</td>\n      <td>magnesium</td>\n      <td></td>\n      <td>drug</td>\n      <td></td>\n      <td>acetaminophen/theophylline, lidocaine/quinidin...</td>\n      <td>False</td>\n      <td>NO_DDI</td>\n    </tr>\n    <tr>\n      <th>freq</th>\n      <td>13</td>\n      <td>1061</td>\n      <td>34</td>\n      <td>344</td>\n      <td>870</td>\n      <td>344</td>\n      <td>91</td>\n      <td>1423</td>\n      <td>1423</td>\n    </tr>\n  </tbody>\n</table>\n</div>"
     },
     "metadata": {},
     "execution_count": 67
    }
   ],
   "source": [
    "classification_task_df.describe()"
   ]
  },
  {
   "cell_type": "code",
   "execution_count": 70,
   "metadata": {},
   "outputs": [
    {
     "output_type": "execute_result",
     "data": {
      "text/plain": "           e1_id  e1_type  e1_name  e2_id  e2_type  e2_name  sentence   ddi\nlabel                                                                      \nNO_DDI      1423     1423     1423   1423     1423     1423      1423  1423\nadvise         7        7        7      7        7        7         7     7\neffect       123      123      123    123      123      123       123   123\nint           10       10       10     10       10       10        10    10\nmechanism     52       52       52     52       52       52        52    52",
      "text/html": "<div>\n<style scoped>\n    .dataframe tbody tr th:only-of-type {\n        vertical-align: middle;\n    }\n\n    .dataframe tbody tr th {\n        vertical-align: top;\n    }\n\n    .dataframe thead th {\n        text-align: right;\n    }\n</style>\n<table border=\"1\" class=\"dataframe\">\n  <thead>\n    <tr style=\"text-align: right;\">\n      <th></th>\n      <th>e1_id</th>\n      <th>e1_type</th>\n      <th>e1_name</th>\n      <th>e2_id</th>\n      <th>e2_type</th>\n      <th>e2_name</th>\n      <th>sentence</th>\n      <th>ddi</th>\n    </tr>\n    <tr>\n      <th>label</th>\n      <th></th>\n      <th></th>\n      <th></th>\n      <th></th>\n      <th></th>\n      <th></th>\n      <th></th>\n      <th></th>\n    </tr>\n  </thead>\n  <tbody>\n    <tr>\n      <th>NO_DDI</th>\n      <td>1423</td>\n      <td>1423</td>\n      <td>1423</td>\n      <td>1423</td>\n      <td>1423</td>\n      <td>1423</td>\n      <td>1423</td>\n      <td>1423</td>\n    </tr>\n    <tr>\n      <th>advise</th>\n      <td>7</td>\n      <td>7</td>\n      <td>7</td>\n      <td>7</td>\n      <td>7</td>\n      <td>7</td>\n      <td>7</td>\n      <td>7</td>\n    </tr>\n    <tr>\n      <th>effect</th>\n      <td>123</td>\n      <td>123</td>\n      <td>123</td>\n      <td>123</td>\n      <td>123</td>\n      <td>123</td>\n      <td>123</td>\n      <td>123</td>\n    </tr>\n    <tr>\n      <th>int</th>\n      <td>10</td>\n      <td>10</td>\n      <td>10</td>\n      <td>10</td>\n      <td>10</td>\n      <td>10</td>\n      <td>10</td>\n      <td>10</td>\n    </tr>\n    <tr>\n      <th>mechanism</th>\n      <td>52</td>\n      <td>52</td>\n      <td>52</td>\n      <td>52</td>\n      <td>52</td>\n      <td>52</td>\n      <td>52</td>\n      <td>52</td>\n    </tr>\n  </tbody>\n</table>\n</div>"
     },
     "metadata": {},
     "execution_count": 70
    }
   ],
   "source": [
    "classification_task_df.groupby(\"label\").count()"
   ]
  },
  {
   "cell_type": "code",
   "execution_count": null,
   "metadata": {},
   "outputs": [],
   "source": [
    " "
   ]
  }
 ],
 "metadata": {
  "language_info": {
   "codemirror_mode": {
    "name": "ipython",
    "version": 3
   },
   "file_extension": ".py",
   "mimetype": "text/x-python",
   "name": "python",
   "nbconvert_exporter": "python",
   "pygments_lexer": "ipython3",
   "version": "3.8.2-final"
  },
  "orig_nbformat": 2,
  "kernelspec": {
   "name": "python38264bitddiextractconda28425dae915543ee8f7bbe73acc88136",
   "display_name": "Python 3.8.2 64-bit ('ddiextract': conda)"
  }
 },
 "nbformat": 4,
 "nbformat_minor": 2
}